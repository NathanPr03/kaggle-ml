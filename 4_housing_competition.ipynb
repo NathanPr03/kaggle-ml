{
 "cells": [
  {
   "metadata": {},
   "cell_type": "markdown",
   "source": [
    "# Housing Competition\n",
    "https://www.kaggle.com/competitions/home-data-for-ml-course/data\n"
   ],
   "id": "9c32e28be1550bd1"
  },
  {
   "metadata": {
    "ExecuteTime": {
     "end_time": "2025-09-06T16:02:50.954321Z",
     "start_time": "2025-09-06T16:02:50.270373Z"
    }
   },
   "cell_type": "code",
   "source": [
    "import pandas as pd\n",
    "from sklearn.ensemble import RandomForestRegressor\n",
    "from sklearn.model_selection import train_test_split\n",
    "from sklearn.metrics import mean_absolute_error\n",
    "\n",
    "# We load the data just as normal\n",
    "training_data_file_path = ('./data/4_housing_competition/train.csv')\n",
    "\n",
    "home_data = pd.read_csv(training_data_file_path)\n",
    "\n",
    "y = home_data.SalePrice\n",
    "\n",
    "feature_names = [\n",
    "    'LotArea',\n",
    "    'YearBuilt',\n",
    "    '1stFlrSF',\n",
    "    '2ndFlrSF',\n",
    "    'FullBath',\n",
    "    'BedroomAbvGr',\n",
    "    'TotRmsAbvGrd', \n",
    "    'MSSubClass',\n",
    "    'LotArea',\n",
    "    'OverallQual',\n",
    "    'OverallCond',\n",
    "    'YearBuilt',\n",
    "    'YearRemodAdd',\n",
    "    '1stFlrSF',\n",
    "    '2ndFlrSF',\n",
    "    'LowQualFinSF',\n",
    "    'GrLivArea',\n",
    "    'FullBath',\n",
    "    'HalfBath',\n",
    "    'BedroomAbvGr',\n",
    "    'KitchenAbvGr',\n",
    "    'TotRmsAbvGrd',\n",
    "    'Fireplaces',\n",
    "    'WoodDeckSF',\n",
    "    'OpenPorchSF',\n",
    "    'EnclosedPorch',\n",
    "    '3SsnPorch',\n",
    "    'ScreenPorch',\n",
    "    'PoolArea',\n",
    "    'MiscVal',\n",
    "    'MoSold',\n",
    "    'YrSold']\n",
    "\n",
    "X = home_data[feature_names]\n",
    "\n",
    "X_train, X_valid, y_train, y_valid = train_test_split(X, y, random_state=1)\n",
    "\n",
    "model = RandomForestRegressor(random_state=1)\n",
    "\n",
    "model.fit(X, y)\n",
    "\n",
    "val_predictions = model.predict(X_valid)\n",
    "\n",
    "# for i in range(len(X_valid)):\n",
    "#     print(f\"Predicted: {val_predictions[i]}, Actual: {y_valid.iloc[i]}\")\n",
    "\n",
    "mae = mean_absolute_error(y_valid, val_predictions)\n",
    "print(f\"Mean Absolute Error: {mae}\")\n",
    "\n",
    "\n",
    "# Now we run the model on test data\n",
    "test_data_file_path = ('./data/4_housing_competition/test.csv')\n",
    "test_data = pd.read_csv(test_data_file_path)\n",
    "X_test = test_data[feature_names]\n",
    "test_predictions = model.predict(X_test)\n"
   ],
   "id": "5a2ec651dd5f845e",
   "outputs": [
    {
     "name": "stdout",
     "output_type": "stream",
     "text": [
      "Mean Absolute Error: 6399.30722283105\n"
     ]
    }
   ],
   "execution_count": 9
  },
  {
   "metadata": {
    "ExecuteTime": {
     "end_time": "2025-09-06T16:03:42.431477Z",
     "start_time": "2025-09-06T16:03:42.423318Z"
    }
   },
   "cell_type": "code",
   "source": [
    "def generate_csv_from_predictions():\n",
    "    output = pd.DataFrame({'Id': test_data.Id,\n",
    "                           'SalePrice': test_predictions})\n",
    "\n",
    "    output.to_csv('/Users/natedev/repos/machine-learning/data/4_housing_competition/submission.csv', index=False)\n",
    "    print(\"Your submission was successfully saved!\")\n",
    "\n",
    "generate_csv_from_predictions()"
   ],
   "id": "bfe7ea1227ce2edc",
   "outputs": [
    {
     "name": "stdout",
     "output_type": "stream",
     "text": [
      "Your submission was successfully saved!\n"
     ]
    }
   ],
   "execution_count": 12
  },
  {
   "metadata": {},
   "cell_type": "code",
   "outputs": [],
   "execution_count": null,
   "source": "",
   "id": "bf3ddccbad7115aa"
  }
 ],
 "metadata": {
  "kernelspec": {
   "display_name": "Python 3",
   "language": "python",
   "name": "python3"
  },
  "language_info": {
   "codemirror_mode": {
    "name": "ipython",
    "version": 2
   },
   "file_extension": ".py",
   "mimetype": "text/x-python",
   "name": "python",
   "nbconvert_exporter": "python",
   "pygments_lexer": "ipython2",
   "version": "2.7.6"
  }
 },
 "nbformat": 4,
 "nbformat_minor": 5
}
