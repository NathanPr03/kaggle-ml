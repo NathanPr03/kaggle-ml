{
 "cells": [
  {
   "metadata": {
    "collapsed": true
   },
   "cell_type": "markdown",
   "source": [
    "# Titanic Kaggle competition\n",
    "https://www.kaggle.com/competitions/titanic/overview"
   ],
   "id": "75b3601c2214cd70"
  },
  {
   "metadata": {
    "ExecuteTime": {
     "end_time": "2025-09-19T20:28:30.975693Z",
     "start_time": "2025-09-19T20:28:30.783723Z"
    }
   },
   "cell_type": "code",
   "source": [
    "from numpy.matlib import empty\n",
    "from xgboost import XGBRegressor, XGBClassifier\n",
    "from typing import Tuple\n",
    "import numpy as np\n",
    "from sklearn.metrics import confusion_matrix, classification_report, accuracy_score\n",
    "from sklearn.ensemble import RandomForestClassifier\n",
    "from sklearn.compose import ColumnTransformer\n",
    "from sklearn.preprocessing import OneHotEncoder, FunctionTransformer, OrdinalEncoder\n",
    "from sklearn.pipeline import Pipeline\n",
    "from sklearn.impute import SimpleImputer\n",
    "from sklearn.model_selection import train_test_split\n",
    "# Load training data\n",
    "\n",
    "import pandas as pd\n",
    "\n",
    "file_path = './data/titanic/train.csv'\n",
    "\n",
    "def retrieve_sanitised_data_frame(file_path) -> Tuple[pd.DataFrame, pd.Series]:\n",
    "    titanic_passenger_data = pd.read_csv(file_path).replace(['', ' ', '  '], np.nan)\n",
    "\n",
    "    y = titanic_passenger_data.get('Survived', None) # handle case where it doesnt exist (test_data)\n",
    "\n",
    "    feature_names = titanic_passenger_data.columns\n",
    "    X = titanic_passenger_data[feature_names].drop(\n",
    "        ['Name', 'PassengerId', 'Survived'],\n",
    "        axis=1,\n",
    "        errors='ignore' # If we fail to drop survived we dont care\n",
    "    ) # Names probs not useful\n",
    "\n",
    "    X = X.drop(['Ticket'], axis=1) # TODO: This is temporary just to get up and running\n",
    "\n",
    "    return X, y\n",
    "\n",
    "X, y = retrieve_sanitised_data_frame(file_path)\n",
    "print(X.columns)\n",
    "X_train, X_valid, y_train, y_valid = train_test_split(X, y, random_state=1)\n",
    "\n",
    "mean_imputer = SimpleImputer(strategy='mean') # Temporary\n",
    "zero_imputer = SimpleImputer(strategy='constant', fill_value=0)\n",
    "\n",
    "def has_cabin_feature(X):\n",
    "    # X is a 2D array-like with cabin data\n",
    "    if isinstance(X, pd.DataFrame):\n",
    "        has_cabin = X.iloc[:, 0].notna().astype(int)\n",
    "    else:\n",
    "        has_cabin = pd.Series(X.ravel()).notna().astype(int)\n",
    "\n",
    "    return has_cabin.values.reshape(-1, 1)\n",
    "\n",
    "cabin_pipeline = Pipeline([\n",
    "    ('has_cabin', FunctionTransformer(has_cabin_feature, validate=False))\n",
    "])\n",
    "\n",
    "preprocessor = ColumnTransformer(\n",
    "    transformers=[\n",
    "        ('num_mean', mean_imputer, ['Age']),\n",
    "        ('num_zero', zero_imputer, ['SibSp']),\n",
    "        ('cat', OneHotEncoder(), ['Sex', 'Embarked']),\n",
    "        ('cabin', cabin_pipeline, ['Cabin']),\n",
    "    ])\n",
    "\n",
    "model = RandomForestClassifier(n_estimators=100, max_depth=5, random_state=1)\n",
    "\n",
    "xgbModel = XGBClassifier(\n",
    "  n_estimators=300, # Number of trees in forest\n",
    "  learning_rate=0.01, # Step size shrinkage used in update to prevents overfitting\n",
    "  n_jobs=4, # Parallelisation - number of CPU cores to use (4 cores in this case)\n",
    ")\n",
    "my_pipeline = Pipeline(steps=[('preprocessor', preprocessor),\n",
    "                              ('model', xgbModel)\n",
    "                             ])\n",
    "\n",
    "my_pipeline.fit(X_train, y_train)\n",
    "\n",
    "preds = my_pipeline.predict(X_valid)\n",
    "\n",
    "accuracy = accuracy_score(y_valid, preds)\n",
    "print('Accuracy:', accuracy)\n",
    "\n",
    "print('\\nClassification Report:')\n",
    "print(classification_report(y_valid, preds))\n",
    "\n",
    "print('\\nConfusion Matrix:')\n",
    "print(confusion_matrix(y_valid, preds))"
   ],
   "id": "3870edede0a2a56f",
   "outputs": [
    {
     "name": "stdout",
     "output_type": "stream",
     "text": [
      "Index(['Pclass', 'Sex', 'Age', 'SibSp', 'Parch', 'Fare', 'Cabin', 'Embarked'], dtype='object')\n",
      "Accuracy: 0.7802690582959642\n",
      "\n",
      "Classification Report:\n",
      "              precision    recall  f1-score   support\n",
      "\n",
      "           0       0.78      0.86      0.82       128\n",
      "           1       0.78      0.67      0.72        95\n",
      "\n",
      "    accuracy                           0.78       223\n",
      "   macro avg       0.78      0.77      0.77       223\n",
      "weighted avg       0.78      0.78      0.78       223\n",
      "\n",
      "\n",
      "Confusion Matrix:\n",
      "[[110  18]\n",
      " [ 31  64]]\n"
     ]
    }
   ],
   "execution_count": 83
  },
  {
   "metadata": {
    "ExecuteTime": {
     "end_time": "2025-09-19T20:28:35.572316Z",
     "start_time": "2025-09-19T20:28:35.556731Z"
    }
   },
   "cell_type": "code",
   "source": [
    "# Prepare submission\n",
    "test_data_file_path = './data/titanic/test.csv'\n",
    "test_data = pd.read_csv(test_data_file_path).replace(['', ' ', '  '], np.nan)\n",
    "\n",
    "predictions_on_test_data = my_pipeline.predict(test_data)\n",
    "\n",
    "# Save to CSV\n",
    "output = pd.DataFrame({'PassengerId': test_data.PassengerId, 'Survived': predictions_on_test_data})\n",
    "output.to_csv('./data/titanic/submission.csv', index=False)\n",
    "print(\"Your submission was successfully saved!\")\n"
   ],
   "id": "d912c10e485be044",
   "outputs": [
    {
     "name": "stdout",
     "output_type": "stream",
     "text": [
      "Your submission was successfully saved!\n"
     ]
    }
   ],
   "execution_count": 84
  },
  {
   "metadata": {},
   "cell_type": "markdown",
   "source": [
    "a# Steps\n",
    "\n",
    "- [x] Load data\n",
    "- [x] Select columns we want\n",
    "- [x] Temporarily exclude cabin and ticket\n",
    "- [ ] Impute age\n",
    "    - [x] Mean\n",
    "    - [ ] Smarter - can we work this out from name? Ticket price? Location\n",
    "- [x] One-hot encode sex\n",
    "- [ ] Get smart with ticket and cabin\n",
    "- [x] Create decision tree\n",
    "    - [ ] Tune decision tree\n",
    "- [x] XGBoost\n",
    "- [x] Try cross fold validation <-- Not doing this as we already have a test set"
   ],
   "id": "8c3c0558763c5511"
  }
 ],
 "metadata": {
  "kernelspec": {
   "display_name": "Python 3",
   "language": "python",
   "name": "python3"
  },
  "language_info": {
   "codemirror_mode": {
    "name": "ipython",
    "version": 2
   },
   "file_extension": ".py",
   "mimetype": "text/x-python",
   "name": "python",
   "nbconvert_exporter": "python",
   "pygments_lexer": "ipython2",
   "version": "2.7.6"
  }
 },
 "nbformat": 4,
 "nbformat_minor": 5
}
