{
 "cells": [
  {
   "metadata": {},
   "cell_type": "markdown",
   "source": "# Basic Data Exploration\n",
   "id": "8a77807f92f26ee"
  },
  {
   "metadata": {
    "ExecuteTime": {
     "end_time": "2025-08-24T15:22:55.593736Z",
     "start_time": "2025-08-24T15:22:55.549816Z"
    }
   },
   "cell_type": "code",
   "source": [
    "import pandas as pd\n",
    "\n",
    "melbourne_file_path = './data/melb_data.csv'\n",
    "\n",
    "melbourne_data = pd.read_csv(melbourne_file_path)\n",
    "\"\"\"\n",
    "The results show 8 numbers for each column in your original dataset. The first number, the count, shows how many rows have non-missing values.\n",
    "\n",
    "Missing values arise for many reasons. For example, the size of the 2nd bedroom wouldn't be collected when surveying a 1 bedroom house. We'll come back to the topic of missing data.\n",
    "\n",
    "The second value is the mean, which is the average. Under that, std is the standard deviation, which measures how numerically spread out the values are.\n",
    "\n",
    "To interpret the min, 25%, 50%, 75% and max values, imagine sorting each column from lowest to highest value. The first (smallest) value is the min. If you go a quarter way through the list, you'll find a number that is bigger than 25% of the values and smaller than 75% of the values. That is the 25% value (pronounced \"25th percentile\"). The 50th and 75th percentiles are defined analogously, and the max is the largest number.\n",
    "\"\"\"\n",
    "melbourne_data.describe()\n",
    "\n",
    "avg_lot_size = melbourne_data['Landsize'].mean()\n",
    "\n",
    "newest_home_age = melbourne_data['YearBuilt'].max()\n",
    "\n",
    "print(newest_home_age)\n",
    "\n"
   ],
   "id": "fbc121e30a2defb3",
   "outputs": [
    {
     "name": "stdout",
     "output_type": "stream",
     "text": [
      "2018.0\n"
     ]
    }
   ],
   "execution_count": 9
  },
  {
   "metadata": {},
   "cell_type": "code",
   "outputs": [],
   "execution_count": null,
   "source": "",
   "id": "c4ff8bef4769c1f4"
  }
 ],
 "metadata": {
  "kernelspec": {
   "display_name": "Python 3 (ipykernel)",
   "language": "python",
   "name": "python3"
  },
  "language_info": {
   "codemirror_mode": {
    "name": "ipython",
    "version": 2
   },
   "file_extension": ".py",
   "mimetype": "text/x-python",
   "name": "python",
   "nbconvert_exporter": "python",
   "pygments_lexer": "ipython2",
   "version": "2.7.6"
  }
 },
 "nbformat": 4,
 "nbformat_minor": 5
}
