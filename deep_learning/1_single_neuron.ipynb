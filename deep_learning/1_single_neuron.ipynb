{
 "cells": [
  {
   "metadata": {
    "collapsed": true
   },
   "cell_type": "markdown",
   "source": [
    "# What is a neuron\n",
    "\n",
    "A neuron is simply a node that takes an input `x` and multiplies it by a weight `w` (it can also have a bias `b` which is added on). this output is then called `y`. the process of training a neural network just modifies its weights, to be \"optimal\" (unsure how it does that or what it really means yet!)."
   ],
   "id": "7ef980a8021b0478"
  },
  {
   "metadata": {
    "ExecuteTime": {
     "end_time": "2025-09-27T16:14:38.371384Z",
     "start_time": "2025-09-27T16:14:35.300264Z"
    }
   },
   "cell_type": "code",
   "source": [
    "from tensorflow import keras\n",
    "from tensorflow.keras import layers\n",
    "\n",
    "model = keras.Sequential([\n",
    "    layers.Dense(\n",
    "        units=1, # Number of outputs to a node\n",
    "        input_shape=[11], # Number of inputs to a node\n",
    "    )\n",
    "])\n",
    "\n",
    "# Check the weights\n",
    "w, b = model.weights\n",
    "\n",
    "print(\"Weights\\n{}\\n\\nBias\\n{}\".format(w, b))"
   ],
   "id": "cdc7bbb78b1a4946",
   "outputs": [
    {
     "name": "stdout",
     "output_type": "stream",
     "text": [
      "Weights\n",
      "<Variable path=sequential/dense/kernel, shape=(11, 1), dtype=float32, value=[[ 0.4291641 ]\n",
      " [-0.6123682 ]\n",
      " [ 0.48510915]\n",
      " [ 0.05159652]\n",
      " [ 0.28441334]\n",
      " [ 0.2666186 ]\n",
      " [-0.4625964 ]\n",
      " [-0.11438519]\n",
      " [ 0.01720333]\n",
      " [ 0.4684325 ]\n",
      " [-0.5647455 ]]>\n",
      "\n",
      "Bias\n",
      "<Variable path=sequential/dense/bias, shape=(1,), dtype=float32, value=[0.]>\n"
     ]
    },
    {
     "name": "stderr",
     "output_type": "stream",
     "text": [
      "C:\\Users\\nprin\\source\\repos\\kaggle-ml\\.venv\\lib\\site-packages\\keras\\src\\layers\\core\\dense.py:93: UserWarning: Do not pass an `input_shape`/`input_dim` argument to a layer. When using Sequential models, prefer using an `Input(shape)` object as the first layer in the model instead.\n",
      "  super().__init__(activity_regularizer=activity_regularizer, **kwargs)\n"
     ]
    }
   ],
   "execution_count": 1
  },
  {
   "metadata": {},
   "cell_type": "markdown",
   "source": "The current weights of these models are just generated numbers between -1 and 1. Same with the bias",
   "id": "13e6837fbc07d1c7"
  }
 ],
 "metadata": {
  "kernelspec": {
   "display_name": "Python 3",
   "language": "python",
   "name": "python3"
  },
  "language_info": {
   "codemirror_mode": {
    "name": "ipython",
    "version": 2
   },
   "file_extension": ".py",
   "mimetype": "text/x-python",
   "name": "python",
   "nbconvert_exporter": "python",
   "pygments_lexer": "ipython2",
   "version": "2.7.6"
  }
 },
 "nbformat": 4,
 "nbformat_minor": 5
}
