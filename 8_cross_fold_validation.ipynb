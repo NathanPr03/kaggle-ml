{
 "cells": [
  {
   "metadata": {
    "collapsed": true
   },
   "cell_type": "markdown",
   "source": [
    "# Cross-Fold Validation\n",
    "In the circumestances where we have little training data, not enough to afford to split off a separate test set. We can use cross-fold validation to get a better estimate of model performance.\n",
    "\n",
    "This esentially means, split up the dataset into k folds, we then train on k-1 folds and validate on the remaining fold. We repeat this k times, each time with a different fold held out for validation. Finally we average the k validation scores to get a better estimate of model performance."
   ],
   "id": "3079a890dc8bd573"
  },
  {
   "metadata": {},
   "cell_type": "code",
   "outputs": [],
   "execution_count": null,
   "source": [
    "from sklearn.model_selection import cross_val_score\n",
    "from sklearn.ensemble import RandomForestRegressor\n",
    "from sklearn.impute import SimpleImputer\n",
    "from sklearn.pipeline import Pipeline\n",
    "\n",
    "# We won't bother writing out the whole code.\n",
    "\n",
    "some_pipeline = Pipeline(steps=[\n",
    "    ('preprocessor', SimpleImputer()),\n",
    "    ('model', RandomForestRegressor(n_estimators=50, random_state=0))\n",
    "])\n",
    "\n",
    "# Here we use cross-fold validation. cv is the number of folds\n",
    "scores = cross_val_score(some_pipeline, some_X, some_y,\n",
    "                              cv=5,\n",
    "                              scoring='mean_absolute_error')\n",
    "\n",
    "# We want the mean of all scores\n",
    "print(\"Average MAE score:\", scores.mean())\n"
   ],
   "id": "8c8f3bd7535664ce"
  }
 ],
 "metadata": {
  "kernelspec": {
   "display_name": "Python 3",
   "language": "python",
   "name": "python3"
  },
  "language_info": {
   "codemirror_mode": {
    "name": "ipython",
    "version": 2
   },
   "file_extension": ".py",
   "mimetype": "text/x-python",
   "name": "python",
   "nbconvert_exporter": "python",
   "pygments_lexer": "ipython2",
   "version": "2.7.6"
  }
 },
 "nbformat": 4,
 "nbformat_minor": 5
}
